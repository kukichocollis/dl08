{
  "nbformat": 4,
  "nbformat_minor": 0,
  "metadata": {
    "colab": {
      "provenance": [],
      "include_colab_link": true
    },
    "kernelspec": {
      "name": "python3",
      "display_name": "Python 3"
    },
    "language_info": {
      "name": "python"
    }
  },
  "cells": [
    {
      "cell_type": "markdown",
      "metadata": {
        "id": "view-in-github",
        "colab_type": "text"
      },
      "source": [
        "<a href=\"https://colab.research.google.com/github/kukichocollis/dl08/blob/main/notebook/ch07_dataset_hyperparameter.ipynb\" target=\"_parent\"><img src=\"https://colab.research.google.com/assets/colab-badge.svg\" alt=\"Open In Colab\"/></a>"
      ]
    },
    {
      "cell_type": "markdown",
      "source": [
        "# Datasets\n",
        "\n",
        "# Hyperparameter selection"
      ],
      "metadata": {
        "id": "Clgcf6QMGKSJ"
      }
    },
    {
      "cell_type": "code",
      "execution_count": null,
      "metadata": {
        "colab": {
          "base_uri": "https://localhost:8080/"
        },
        "id": "zRijNEEYGCLo",
        "outputId": "96d98bc0-43a2-433c-bfa2-bdc2223079a2"
      },
      "outputs": [
        {
          "output_type": "execute_result",
          "data": {
            "text/plain": [
              "((3, 2, 3), 3, dtype('int64'))"
            ]
          },
          "metadata": {},
          "execution_count": 2
        }
      ],
      "source": [
        "# datasets\n",
        "import numpy as np\n",
        "\n",
        "array = np.array([[[1, 2, 3], [4, 5, 6]], [[7, 8, 9], [10, 11, 12]], [[13, 14, 15], [16, 17, 18]]])\n",
        "array.shape, array.ndim, array.dtype\n"
      ]
    },
    {
      "cell_type": "code",
      "source": [
        "arr1 = np.empty((3, 4, 5, 6)) # zeros(), ones()\n",
        "arr1.shape\n"
      ],
      "metadata": {
        "colab": {
          "base_uri": "https://localhost:8080/"
        },
        "id": "tBIRr3SfGfox",
        "outputId": "52a44cf9-ab8d-4151-94dd-fa8a738577f1"
      },
      "execution_count": null,
      "outputs": [
        {
          "output_type": "execute_result",
          "data": {
            "text/plain": [
              "(3, 4, 5, 6)"
            ]
          },
          "metadata": {},
          "execution_count": 3
        }
      ]
    },
    {
      "cell_type": "code",
      "source": [
        "# vector records\n",
        "arr2 = np.random.randn(500,8) # \n",
        "arr2.shape\n"
      ],
      "metadata": {
        "colab": {
          "base_uri": "https://localhost:8080/"
        },
        "id": "l0ybQIZ8G3rx",
        "outputId": "4d6be02a-0143-4cc6-97a6-5c281f977efe"
      },
      "execution_count": null,
      "outputs": [
        {
          "output_type": "execute_result",
          "data": {
            "text/plain": [
              "(500, 8)"
            ]
          },
          "metadata": {},
          "execution_count": 4
        }
      ]
    },
    {
      "cell_type": "code",
      "source": [
        "# color images\n",
        "arr3 = np.empty((60000,28,28,3)) #\n",
        "arr3.shape\n"
      ],
      "metadata": {
        "colab": {
          "base_uri": "https://localhost:8080/"
        },
        "id": "Dx6GIhvFHCSa",
        "outputId": "a1d150b6-febf-4ae5-85dd-dd8f4ea01ac0"
      },
      "execution_count": null,
      "outputs": [
        {
          "output_type": "execute_result",
          "data": {
            "text/plain": [
              "(60000, 28, 28, 3)"
            ]
          },
          "metadata": {},
          "execution_count": 5
        }
      ]
    },
    {
      "cell_type": "code",
      "source": [
        "# time series\n",
        "arr4 = np.random.randn(20,365,4) # \n",
        "arr4.shape\n"
      ],
      "metadata": {
        "colab": {
          "base_uri": "https://localhost:8080/"
        },
        "id": "TCp8p5dYHLMZ",
        "outputId": "4f76e4e3-c379-410b-84ae-6b0813ce5547"
      },
      "execution_count": null,
      "outputs": [
        {
          "output_type": "execute_result",
          "data": {
            "text/plain": [
              "(20, 365, 4)"
            ]
          },
          "metadata": {},
          "execution_count": 6
        }
      ]
    },
    {
      "cell_type": "markdown",
      "source": [
        "---\n",
        "---"
      ],
      "metadata": {
        "id": "lOd58jyHHbOB"
      }
    },
    {
      "cell_type": "markdown",
      "source": [
        "## Hyperparameter search\n",
        "- epochs\n",
        "- batch-size"
      ],
      "metadata": {
        "id": "AOQF5LVBO7VK"
      }
    },
    {
      "cell_type": "code",
      "source": [
        "# !pip install scikeras"
      ],
      "metadata": {
        "colab": {
          "base_uri": "https://localhost:8080/"
        },
        "id": "Mruv57rBPMdA",
        "outputId": "94403fab-e8dd-44d9-9240-767255b4eaf9"
      },
      "execution_count": null,
      "outputs": [
        {
          "output_type": "stream",
          "name": "stdout",
          "text": [
            "Looking in indexes: https://pypi.org/simple, https://us-python.pkg.dev/colab-wheels/public/simple/\n",
            "Collecting scikeras\n",
            "  Downloading scikeras-0.10.0-py3-none-any.whl (27 kB)\n",
            "Requirement already satisfied: scikit-learn>=1.0.0 in /usr/local/lib/python3.10/dist-packages (from scikeras) (1.2.2)\n",
            "Requirement already satisfied: packaging>=0.21 in /usr/local/lib/python3.10/dist-packages (from scikeras) (23.1)\n",
            "Requirement already satisfied: joblib>=1.1.1 in /usr/local/lib/python3.10/dist-packages (from scikit-learn>=1.0.0->scikeras) (1.2.0)\n",
            "Requirement already satisfied: scipy>=1.3.2 in /usr/local/lib/python3.10/dist-packages (from scikit-learn>=1.0.0->scikeras) (1.10.1)\n",
            "Requirement already satisfied: threadpoolctl>=2.0.0 in /usr/local/lib/python3.10/dist-packages (from scikit-learn>=1.0.0->scikeras) (3.1.0)\n",
            "Requirement already satisfied: numpy>=1.17.3 in /usr/local/lib/python3.10/dist-packages (from scikit-learn>=1.0.0->scikeras) (1.22.4)\n",
            "Installing collected packages: scikeras\n",
            "Successfully installed scikeras-0.10.0\n"
          ]
        }
      ]
    },
    {
      "cell_type": "code",
      "source": [
        "# import numpy as np \n",
        "# import matplotlib.pyplot as plt \n",
        "import tensorflow as tf\n",
        "from sklearn.model_selection import GridSearchCV\n",
        "# from tensorflow.keras.wrappers.scikit_learn import KerasClassifier\n",
        "from scikeras.wrappers import KerasClassifier\n",
        "# OS warning cure\n",
        "import os\n",
        "os.environ['TF_CPP_MIN_LOG_LEVEL'] = '3'\n",
        "\n",
        "# 데이터 세트 준비\n",
        "(train_images, train_labels), (test_images, test_labels) = tf.keras.datasets.mnist.load_data()\n",
        "\n",
        "train_images = train_images.reshape((60000, 28 * 28))\n",
        "train_images = train_images.astype('float32') / 255\n",
        "\n",
        "test_images = test_images.reshape((10000, 28 * 28))\n",
        "test_images = test_images.astype('float32') / 255\n",
        "\n",
        "train_labels = tf.keras.utils.to_categorical(train_labels)\n",
        "test_labels = tf.keras.utils.to_categorical(test_labels)\n",
        "                             \n",
        "# 신경망 모델 구축\n",
        "def build_model():\n",
        "    network = tf.keras.models.Sequential()\n",
        "    network.add(tf.keras.layers.Dense(512, activation='relu', input_shape=(28 * 28,)))\n",
        "    network.add(tf.keras.layers.Dense(10, activation='sigmoid'))\n",
        "\n",
        "    network.compile(optimizer='rmsprop',\n",
        "                loss='categorical_crossentropy',\n",
        "                metrics=['accuracy'])\n",
        "    return network\n",
        "\n",
        "# 하이퍼 매개변수 딕셔너리\n",
        "param_grid = {\n",
        "              'epochs':[1, 2, 3],\t# 에포크 수: 1, 2, 3\n",
        "              'batch_size':[32, 64, 100]\t# 배치 크기: 32, 64, 100\n",
        "             }\n",
        "\n",
        "# 케라스 모델을 scikeras에서 사용하도록 포장한다. \n",
        "model = KerasClassifier(model = build_model, verbose=1)\n",
        "\n",
        "## Elapsed time start\n",
        "import time\n",
        "start = time.time()\n",
        "\n",
        "# 그리드 검색\n",
        "gs = GridSearchCV(\n",
        "    estimator=model,\n",
        "    param_grid=param_grid, \n",
        "    cv=3, \n",
        "    # n_jobs=-1 # comment this line to avoid out-of-memory\n",
        ")\n",
        "\n",
        "# 그리드 검색 결과 출력\n",
        "grid_result = gs.fit(train_images, train_labels)\n",
        "\n",
        "## Elapsed time end\n",
        "end = time.time()\n",
        "print('Elapsed time:', end - start) # Elapsed time: 122.5, 189.5\n",
        "\n",
        "print(grid_result.best_score_) # 0.9725, 0.9711\n",
        "print(grid_result.best_params_) # {'batch_size': 64, 'epochs': 3}\n"
      ],
      "metadata": {
        "colab": {
          "base_uri": "https://localhost:8080/"
        },
        "id": "QNIJCvZtHdiy",
        "outputId": "6544ccdd-8bb3-4187-c86e-7400747e9567"
      },
      "execution_count": null,
      "outputs": [
        {
          "output_type": "stream",
          "name": "stdout",
          "text": [
            "Downloading data from https://storage.googleapis.com/tensorflow/tf-keras-datasets/mnist.npz\n",
            "11490434/11490434 [==============================] - 0s 0us/step\n",
            "1250/1250 [==============================] - 11s 8ms/step - loss: 0.2385 - accuracy: 0.9291\n",
            "625/625 [==============================] - 3s 4ms/step\n",
            "1250/1250 [==============================] - 11s 9ms/step - loss: 0.2334 - accuracy: 0.9309\n",
            "625/625 [==============================] - 2s 4ms/step\n",
            "1250/1250 [==============================] - 11s 8ms/step - loss: 0.2386 - accuracy: 0.9297\n",
            "625/625 [==============================] - 3s 4ms/step\n",
            "Epoch 1/2\n",
            "1250/1250 [==============================] - 11s 9ms/step - loss: 0.2406 - accuracy: 0.9274\n",
            "Epoch 2/2\n",
            "1250/1250 [==============================] - 10s 8ms/step - loss: 0.1018 - accuracy: 0.9683\n",
            "625/625 [==============================] - 3s 4ms/step\n",
            "Epoch 1/2\n",
            "1250/1250 [==============================] - 11s 9ms/step - loss: 0.2363 - accuracy: 0.9294\n",
            "Epoch 2/2\n",
            "1250/1250 [==============================] - 10s 8ms/step - loss: 0.0998 - accuracy: 0.9701\n",
            "625/625 [==============================] - 1s 2ms/step\n",
            "Epoch 1/2\n",
            "1250/1250 [==============================] - 11s 8ms/step - loss: 0.2363 - accuracy: 0.9310\n",
            "Epoch 2/2\n",
            "1250/1250 [==============================] - 11s 8ms/step - loss: 0.0979 - accuracy: 0.9710\n",
            "625/625 [==============================] - 2s 3ms/step\n",
            "Epoch 1/3\n",
            "1250/1250 [==============================] - 11s 8ms/step - loss: 0.2422 - accuracy: 0.9280\n",
            "Epoch 2/3\n",
            "1250/1250 [==============================] - 11s 9ms/step - loss: 0.1039 - accuracy: 0.9688\n",
            "Epoch 3/3\n",
            "1250/1250 [==============================] - 12s 9ms/step - loss: 0.0683 - accuracy: 0.9797\n",
            "625/625 [==============================] - 3s 4ms/step\n",
            "Epoch 1/3\n",
            "1250/1250 [==============================] - 10s 8ms/step - loss: 0.2395 - accuracy: 0.9291\n",
            "Epoch 2/3\n",
            "1250/1250 [==============================] - 10s 8ms/step - loss: 0.1023 - accuracy: 0.9703\n",
            "Epoch 3/3\n",
            "1250/1250 [==============================] - 10s 8ms/step - loss: 0.0661 - accuracy: 0.9791\n",
            "625/625 [==============================] - 2s 3ms/step\n",
            "Epoch 1/3\n",
            "1250/1250 [==============================] - 17s 13ms/step - loss: 0.2397 - accuracy: 0.9286\n",
            "Epoch 2/3\n",
            "1250/1250 [==============================] - 10s 8ms/step - loss: 0.0979 - accuracy: 0.9714\n",
            "Epoch 3/3\n",
            "1250/1250 [==============================] - 11s 8ms/step - loss: 0.0660 - accuracy: 0.9803\n",
            "625/625 [==============================] - 2s 4ms/step\n",
            "625/625 [==============================] - 5s 7ms/step - loss: 0.2728 - accuracy: 0.9218\n",
            "313/313 [==============================] - 1s 3ms/step\n",
            "625/625 [==============================] - 7s 10ms/step - loss: 0.2719 - accuracy: 0.9215\n",
            "313/313 [==============================] - 1s 3ms/step\n",
            "625/625 [==============================] - 7s 10ms/step - loss: 0.2678 - accuracy: 0.9209\n",
            "313/313 [==============================] - 1s 3ms/step\n",
            "Epoch 1/2\n",
            "625/625 [==============================] - 6s 9ms/step - loss: 0.2705 - accuracy: 0.9201\n",
            "Epoch 2/2\n",
            "625/625 [==============================] - 5s 8ms/step - loss: 0.1137 - accuracy: 0.9667\n",
            "313/313 [==============================] - 1s 4ms/step\n",
            "Epoch 1/2\n",
            "625/625 [==============================] - 6s 8ms/step - loss: 0.2659 - accuracy: 0.9240\n",
            "Epoch 2/2\n",
            "625/625 [==============================] - 6s 10ms/step - loss: 0.1107 - accuracy: 0.9668\n",
            "313/313 [==============================] - 1s 3ms/step\n",
            "Epoch 1/2\n",
            "625/625 [==============================] - 6s 8ms/step - loss: 0.2705 - accuracy: 0.9208\n",
            "Epoch 2/2\n",
            "625/625 [==============================] - 7s 10ms/step - loss: 0.1079 - accuracy: 0.9679\n",
            "313/313 [==============================] - 2s 5ms/step\n",
            "Epoch 1/3\n",
            "625/625 [==============================] - 6s 8ms/step - loss: 0.2680 - accuracy: 0.9224\n",
            "Epoch 2/3\n",
            "625/625 [==============================] - 6s 10ms/step - loss: 0.1140 - accuracy: 0.9660\n",
            "Epoch 3/3\n",
            "625/625 [==============================] - 6s 9ms/step - loss: 0.0737 - accuracy: 0.9775\n",
            "313/313 [==============================] - 1s 3ms/step\n",
            "Epoch 1/3\n",
            "625/625 [==============================] - 7s 10ms/step - loss: 0.2662 - accuracy: 0.9220\n",
            "Epoch 2/3\n",
            "625/625 [==============================] - 6s 9ms/step - loss: 0.1106 - accuracy: 0.9677\n",
            "Epoch 3/3\n",
            "625/625 [==============================] - 6s 10ms/step - loss: 0.0718 - accuracy: 0.9778\n",
            "313/313 [==============================] - 1s 3ms/step\n",
            "Epoch 1/3\n",
            "625/625 [==============================] - 6s 9ms/step - loss: 0.2715 - accuracy: 0.9214\n",
            "Epoch 2/3\n",
            "625/625 [==============================] - 6s 10ms/step - loss: 0.1097 - accuracy: 0.9676\n",
            "Epoch 3/3\n",
            "625/625 [==============================] - 5s 8ms/step - loss: 0.0713 - accuracy: 0.9777\n",
            "313/313 [==============================] - 1s 4ms/step\n",
            "400/400 [==============================] - 5s 12ms/step - loss: 0.2993 - accuracy: 0.9134\n",
            "200/200 [==============================] - 1s 4ms/step\n",
            "400/400 [==============================] - 5s 10ms/step - loss: 0.2903 - accuracy: 0.9158\n",
            "200/200 [==============================] - 1s 6ms/step\n",
            "400/400 [==============================] - 6s 14ms/step - loss: 0.2961 - accuracy: 0.9152\n",
            "200/200 [==============================] - 2s 8ms/step\n",
            "Epoch 1/2\n",
            "400/400 [==============================] - 8s 15ms/step - loss: 0.2987 - accuracy: 0.9128\n",
            "Epoch 2/2\n",
            "400/400 [==============================] - 4s 11ms/step - loss: 0.1260 - accuracy: 0.9633\n",
            "200/200 [==============================] - 1s 6ms/step\n",
            "Epoch 1/2\n",
            "400/400 [==============================] - 4s 10ms/step - loss: 0.2964 - accuracy: 0.9151\n",
            "Epoch 2/2\n",
            "400/400 [==============================] - 4s 10ms/step - loss: 0.1237 - accuracy: 0.9646\n",
            "200/200 [==============================] - 1s 4ms/step\n",
            "Epoch 1/2\n",
            "400/400 [==============================] - 5s 10ms/step - loss: 0.2961 - accuracy: 0.9148\n",
            "Epoch 2/2\n",
            "400/400 [==============================] - 4s 10ms/step - loss: 0.1216 - accuracy: 0.9646\n",
            "200/200 [==============================] - 1s 4ms/step\n",
            "Epoch 1/3\n",
            "400/400 [==============================] - 4s 10ms/step - loss: 0.3015 - accuracy: 0.9129\n",
            "Epoch 2/3\n",
            "400/400 [==============================] - 5s 12ms/step - loss: 0.1274 - accuracy: 0.9625\n",
            "Epoch 3/3\n",
            "400/400 [==============================] - 5s 11ms/step - loss: 0.0831 - accuracy: 0.9756\n",
            "200/200 [==============================] - 1s 7ms/step\n",
            "Epoch 1/3\n",
            "400/400 [==============================] - 4s 10ms/step - loss: 0.2938 - accuracy: 0.9155\n",
            "Epoch 2/3\n",
            "400/400 [==============================] - 4s 10ms/step - loss: 0.1226 - accuracy: 0.9645\n",
            "Epoch 3/3\n",
            "400/400 [==============================] - 5s 12ms/step - loss: 0.0791 - accuracy: 0.9766\n",
            "200/200 [==============================] - 1s 4ms/step\n",
            "Epoch 1/3\n",
            "400/400 [==============================] - 5s 10ms/step - loss: 0.3012 - accuracy: 0.9112\n",
            "Epoch 2/3\n",
            "400/400 [==============================] - 5s 11ms/step - loss: 0.1253 - accuracy: 0.9637\n",
            "Epoch 3/3\n",
            "400/400 [==============================] - 4s 11ms/step - loss: 0.0815 - accuracy: 0.9758\n",
            "200/200 [==============================] - 1s 7ms/step\n",
            "Epoch 1/3\n",
            "1875/1875 [==============================] - 16s 8ms/step - loss: 0.2006 - accuracy: 0.9398\n",
            "Epoch 2/3\n",
            "1875/1875 [==============================] - 15s 8ms/step - loss: 0.0847 - accuracy: 0.9742\n",
            "Epoch 3/3\n",
            "1875/1875 [==============================] - 16s 9ms/step - loss: 0.0603 - accuracy: 0.9821\n",
            "Elapsed time: 663.0553467273712\n",
            "0.9720333333333334\n",
            "{'batch_size': 32, 'epochs': 3}\n"
          ]
        }
      ]
    }
  ]
}